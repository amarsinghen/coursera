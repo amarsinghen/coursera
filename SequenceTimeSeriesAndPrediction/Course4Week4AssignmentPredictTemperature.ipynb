{
  "nbformat": 4,
  "nbformat_minor": 0,
  "metadata": {
    "colab": {
      "name": "Copy of S+P Week 4 Exercise Question.ipynb",
      "provenance": [],
      "collapsed_sections": [],
      "include_colab_link": true
    },
    "kernelspec": {
      "name": "python3",
      "display_name": "Python 3"
    },
    "accelerator": "GPU"
  },
  "cells": [
    {
      "cell_type": "markdown",
      "metadata": {
        "id": "view-in-github",
        "colab_type": "text"
      },
      "source": [
        "<a href=\"https://colab.research.google.com/github/amarsinghen/coursera/blob/master/SequenceTimeSeriesAndPrediction/Course4Week4AssignmentPredictTemperature.ipynb\" target=\"_parent\"><img src=\"https://colab.research.google.com/assets/colab-badge.svg\" alt=\"Open In Colab\"/></a>"
      ]
    },
    {
      "cell_type": "code",
      "metadata": {
        "id": "GNkzTFfynsmV",
        "colab_type": "code",
        "outputId": "a4405151-a809-4254-a592-fd713760e47c",
        "colab": {
          "base_uri": "https://localhost:8080/",
          "height": 575
        }
      },
      "source": [
        "!pip install tensorflow==2.0.0b1"
      ],
      "execution_count": 0,
      "outputs": [
        {
          "output_type": "stream",
          "text": [
            "Collecting tensorflow==2.0.0b1\n",
            "\u001b[?25l  Downloading https://files.pythonhosted.org/packages/29/6c/2c9a5c4d095c63c2fb37d20def0e4f92685f7aee9243d6aae25862694fd1/tensorflow-2.0.0b1-cp36-cp36m-manylinux1_x86_64.whl (87.9MB)\n",
            "\u001b[K     |████████████████████████████████| 87.9MB 50kB/s \n",
            "\u001b[?25hRequirement already satisfied: astor>=0.6.0 in /usr/local/lib/python3.6/dist-packages (from tensorflow==2.0.0b1) (0.8.1)\n",
            "Requirement already satisfied: google-pasta>=0.1.6 in /usr/local/lib/python3.6/dist-packages (from tensorflow==2.0.0b1) (0.1.8)\n",
            "Requirement already satisfied: gast>=0.2.0 in /usr/local/lib/python3.6/dist-packages (from tensorflow==2.0.0b1) (0.2.2)\n",
            "Requirement already satisfied: six>=1.10.0 in /usr/local/lib/python3.6/dist-packages (from tensorflow==2.0.0b1) (1.12.0)\n",
            "Requirement already satisfied: protobuf>=3.6.1 in /usr/local/lib/python3.6/dist-packages (from tensorflow==2.0.0b1) (3.10.0)\n",
            "Requirement already satisfied: absl-py>=0.7.0 in /usr/local/lib/python3.6/dist-packages (from tensorflow==2.0.0b1) (0.8.1)\n",
            "Requirement already satisfied: keras-preprocessing>=1.0.5 in /usr/local/lib/python3.6/dist-packages (from tensorflow==2.0.0b1) (1.1.0)\n",
            "Requirement already satisfied: numpy<2.0,>=1.14.5 in /usr/local/lib/python3.6/dist-packages (from tensorflow==2.0.0b1) (1.17.4)\n",
            "Collecting tb-nightly<1.14.0a20190604,>=1.14.0a20190603\n",
            "\u001b[?25l  Downloading https://files.pythonhosted.org/packages/a4/96/571b875cd81dda9d5dfa1422a4f9d749e67c0a8d4f4f0b33a4e5f5f35e27/tb_nightly-1.14.0a20190603-py3-none-any.whl (3.1MB)\n",
            "\u001b[K     |████████████████████████████████| 3.1MB 49.6MB/s \n",
            "\u001b[?25hCollecting tf-estimator-nightly<1.14.0.dev2019060502,>=1.14.0.dev2019060501\n",
            "\u001b[?25l  Downloading https://files.pythonhosted.org/packages/32/dd/99c47dd007dcf10d63fd895611b063732646f23059c618a373e85019eb0e/tf_estimator_nightly-1.14.0.dev2019060501-py2.py3-none-any.whl (496kB)\n",
            "\u001b[K     |████████████████████████████████| 501kB 59.5MB/s \n",
            "\u001b[?25hRequirement already satisfied: wrapt>=1.11.1 in /usr/local/lib/python3.6/dist-packages (from tensorflow==2.0.0b1) (1.11.2)\n",
            "Requirement already satisfied: wheel>=0.26 in /usr/local/lib/python3.6/dist-packages (from tensorflow==2.0.0b1) (0.33.6)\n",
            "Requirement already satisfied: termcolor>=1.1.0 in /usr/local/lib/python3.6/dist-packages (from tensorflow==2.0.0b1) (1.1.0)\n",
            "Requirement already satisfied: grpcio>=1.8.6 in /usr/local/lib/python3.6/dist-packages (from tensorflow==2.0.0b1) (1.15.0)\n",
            "Requirement already satisfied: keras-applications>=1.0.6 in /usr/local/lib/python3.6/dist-packages (from tensorflow==2.0.0b1) (1.0.8)\n",
            "Requirement already satisfied: setuptools in /usr/local/lib/python3.6/dist-packages (from protobuf>=3.6.1->tensorflow==2.0.0b1) (42.0.2)\n",
            "Requirement already satisfied: markdown>=2.6.8 in /usr/local/lib/python3.6/dist-packages (from tb-nightly<1.14.0a20190604,>=1.14.0a20190603->tensorflow==2.0.0b1) (3.1.1)\n",
            "Requirement already satisfied: werkzeug>=0.11.15 in /usr/local/lib/python3.6/dist-packages (from tb-nightly<1.14.0a20190604,>=1.14.0a20190603->tensorflow==2.0.0b1) (0.16.0)\n",
            "Requirement already satisfied: h5py in /usr/local/lib/python3.6/dist-packages (from keras-applications>=1.0.6->tensorflow==2.0.0b1) (2.8.0)\n",
            "Installing collected packages: tb-nightly, tf-estimator-nightly, tensorflow\n",
            "  Found existing installation: tensorflow 1.15.0\n",
            "    Uninstalling tensorflow-1.15.0:\n",
            "      Successfully uninstalled tensorflow-1.15.0\n",
            "Successfully installed tb-nightly-1.14.0a20190603 tensorflow-2.0.0b1 tf-estimator-nightly-1.14.0.dev2019060501\n"
          ],
          "name": "stdout"
        }
      ]
    },
    {
      "cell_type": "code",
      "metadata": {
        "id": "56XEQOGknrAk",
        "colab_type": "code",
        "outputId": "18b84c9a-6103-415f-c604-9fc111415bcd",
        "colab": {
          "base_uri": "https://localhost:8080/",
          "height": 471
        }
      },
      "source": [
        "import tensorflow as tf\n",
        "print(tf.__version__)"
      ],
      "execution_count": 0,
      "outputs": [
        {
          "output_type": "stream",
          "text": [
            "/usr/local/lib/python3.6/dist-packages/tensorflow/python/framework/dtypes.py:516: FutureWarning: Passing (type, 1) or '1type' as a synonym of type is deprecated; in a future version of numpy, it will be understood as (type, (1,)) / '(1,)type'.\n",
            "  _np_qint8 = np.dtype([(\"qint8\", np.int8, 1)])\n",
            "/usr/local/lib/python3.6/dist-packages/tensorflow/python/framework/dtypes.py:517: FutureWarning: Passing (type, 1) or '1type' as a synonym of type is deprecated; in a future version of numpy, it will be understood as (type, (1,)) / '(1,)type'.\n",
            "  _np_quint8 = np.dtype([(\"quint8\", np.uint8, 1)])\n",
            "/usr/local/lib/python3.6/dist-packages/tensorflow/python/framework/dtypes.py:518: FutureWarning: Passing (type, 1) or '1type' as a synonym of type is deprecated; in a future version of numpy, it will be understood as (type, (1,)) / '(1,)type'.\n",
            "  _np_qint16 = np.dtype([(\"qint16\", np.int16, 1)])\n",
            "/usr/local/lib/python3.6/dist-packages/tensorflow/python/framework/dtypes.py:519: FutureWarning: Passing (type, 1) or '1type' as a synonym of type is deprecated; in a future version of numpy, it will be understood as (type, (1,)) / '(1,)type'.\n",
            "  _np_quint16 = np.dtype([(\"quint16\", np.uint16, 1)])\n",
            "/usr/local/lib/python3.6/dist-packages/tensorflow/python/framework/dtypes.py:520: FutureWarning: Passing (type, 1) or '1type' as a synonym of type is deprecated; in a future version of numpy, it will be understood as (type, (1,)) / '(1,)type'.\n",
            "  _np_qint32 = np.dtype([(\"qint32\", np.int32, 1)])\n",
            "/usr/local/lib/python3.6/dist-packages/tensorflow/python/framework/dtypes.py:525: FutureWarning: Passing (type, 1) or '1type' as a synonym of type is deprecated; in a future version of numpy, it will be understood as (type, (1,)) / '(1,)type'.\n",
            "  np_resource = np.dtype([(\"resource\", np.ubyte, 1)])\n"
          ],
          "name": "stderr"
        },
        {
          "output_type": "stream",
          "text": [
            "2.0.0-beta1\n"
          ],
          "name": "stdout"
        },
        {
          "output_type": "stream",
          "text": [
            "/usr/local/lib/python3.6/dist-packages/tensorboard/compat/tensorflow_stub/dtypes.py:541: FutureWarning: Passing (type, 1) or '1type' as a synonym of type is deprecated; in a future version of numpy, it will be understood as (type, (1,)) / '(1,)type'.\n",
            "  _np_qint8 = np.dtype([(\"qint8\", np.int8, 1)])\n",
            "/usr/local/lib/python3.6/dist-packages/tensorboard/compat/tensorflow_stub/dtypes.py:542: FutureWarning: Passing (type, 1) or '1type' as a synonym of type is deprecated; in a future version of numpy, it will be understood as (type, (1,)) / '(1,)type'.\n",
            "  _np_quint8 = np.dtype([(\"quint8\", np.uint8, 1)])\n",
            "/usr/local/lib/python3.6/dist-packages/tensorboard/compat/tensorflow_stub/dtypes.py:543: FutureWarning: Passing (type, 1) or '1type' as a synonym of type is deprecated; in a future version of numpy, it will be understood as (type, (1,)) / '(1,)type'.\n",
            "  _np_qint16 = np.dtype([(\"qint16\", np.int16, 1)])\n",
            "/usr/local/lib/python3.6/dist-packages/tensorboard/compat/tensorflow_stub/dtypes.py:544: FutureWarning: Passing (type, 1) or '1type' as a synonym of type is deprecated; in a future version of numpy, it will be understood as (type, (1,)) / '(1,)type'.\n",
            "  _np_quint16 = np.dtype([(\"quint16\", np.uint16, 1)])\n",
            "/usr/local/lib/python3.6/dist-packages/tensorboard/compat/tensorflow_stub/dtypes.py:545: FutureWarning: Passing (type, 1) or '1type' as a synonym of type is deprecated; in a future version of numpy, it will be understood as (type, (1,)) / '(1,)type'.\n",
            "  _np_qint32 = np.dtype([(\"qint32\", np.int32, 1)])\n",
            "/usr/local/lib/python3.6/dist-packages/tensorboard/compat/tensorflow_stub/dtypes.py:550: FutureWarning: Passing (type, 1) or '1type' as a synonym of type is deprecated; in a future version of numpy, it will be understood as (type, (1,)) / '(1,)type'.\n",
            "  np_resource = np.dtype([(\"resource\", np.ubyte, 1)])\n"
          ],
          "name": "stderr"
        }
      ]
    },
    {
      "cell_type": "code",
      "metadata": {
        "id": "sLl52leVp5wU",
        "colab_type": "code",
        "colab": {}
      },
      "source": [
        "import numpy as np\n",
        "import matplotlib.pyplot as plt\n",
        "def plot_series(time, series, format=\"-\", start=0, end=None):\n",
        "    plt.plot(time[start:end], series[start:end], format)\n",
        "    plt.xlabel(\"Time\")\n",
        "    plt.ylabel(\"Value\")\n",
        "    plt.grid(True)"
      ],
      "execution_count": 0,
      "outputs": []
    },
    {
      "cell_type": "code",
      "metadata": {
        "id": "tP7oqUdkk0gY",
        "colab_type": "code",
        "outputId": "b7a24c74-627f-4d7d-e486-153d2a4236d7",
        "colab": {
          "base_uri": "https://localhost:8080/",
          "height": 208
        }
      },
      "source": [
        "!wget --no-check-certificate \\\n",
        "    https://raw.githubusercontent.com/jbrownlee/Datasets/master/daily-min-temperatures.csv \\\n",
        "    -O /tmp/daily-min-temperatures.csv"
      ],
      "execution_count": 0,
      "outputs": [
        {
          "output_type": "stream",
          "text": [
            "--2020-01-04 16:47:12--  https://raw.githubusercontent.com/jbrownlee/Datasets/master/daily-min-temperatures.csv\n",
            "Resolving raw.githubusercontent.com (raw.githubusercontent.com)... 151.101.0.133, 151.101.64.133, 151.101.128.133, ...\n",
            "Connecting to raw.githubusercontent.com (raw.githubusercontent.com)|151.101.0.133|:443... connected.\n",
            "HTTP request sent, awaiting response... 200 OK\n",
            "Length: 67921 (66K) [text/plain]\n",
            "Saving to: ‘/tmp/daily-min-temperatures.csv’\n",
            "\n",
            "\r          /tmp/dail   0%[                    ]       0  --.-KB/s               \r/tmp/daily-min-temp 100%[===================>]  66.33K  --.-KB/s    in 0.001s  \n",
            "\n",
            "2020-01-04 16:47:13 (101 MB/s) - ‘/tmp/daily-min-temperatures.csv’ saved [67921/67921]\n",
            "\n"
          ],
          "name": "stdout"
        }
      ]
    },
    {
      "cell_type": "code",
      "metadata": {
        "id": "NcG9r1eClbTh",
        "colab_type": "code",
        "outputId": "b05323f0-4ec2-442a-d165-1fdf7bedadc1",
        "colab": {
          "base_uri": "https://localhost:8080/",
          "height": 388
        }
      },
      "source": [
        "import csv\n",
        "time_step = []\n",
        "temps = []\n",
        "\n",
        "with open('/tmp/daily-min-temperatures.csv') as csvfile:\n",
        "  reader = csv.reader(csvfile, delimiter=',')\n",
        "  next(reader)\n",
        "  for row in reader:\n",
        "    temps.append(float(row[1]))\n",
        "time_step = list(range(1, len(temps)+1))\n",
        "# YOUR CODE HERE. READ TEMPERATURES INTO TEMPS\n",
        "# HAVE TIME STEPS BE A SIMPLE ARRAY OF 1, 2, 3, 4 etc\n",
        "\n",
        "series = np.array(temps)\n",
        "time = np.array(time_step)\n",
        "plt.figure(figsize=(10, 6))\n",
        "plot_series(time, series)"
      ],
      "execution_count": 0,
      "outputs": [
        {
          "output_type": "display_data",
          "data": {
            "image/png": "[encoded data removed]",
            "text/plain": [
              "<Figure size 720x432 with 1 Axes>"
            ]
          },
          "metadata": {
            "tags": []
          }
        }
      ]
    },
    {
      "cell_type": "code",
      "metadata": {
        "id": "L92YRw_IpCFG",
        "colab_type": "code",
        "colab": {}
      },
      "source": [
        "split_time = 2500\n",
        "time_train = time[:split_time]# YOUR CODE HERE\n",
        "x_train = series[:split_time]# YOUR CODE HERE\n",
        "time_valid = time[split_time:]# YOUR CODE HERE\n",
        "x_valid = series[split_time:]# YOUR CODE HERE\n",
        "\n",
        "window_size = 30\n",
        "batch_size = 32\n",
        "shuffle_buffer_size = 1000\n",
        "\n"
      ],
      "execution_count": 0,
      "outputs": []
    },
    {
      "cell_type": "code",
      "metadata": {
        "id": "lJwUUZscnG38",
        "colab_type": "code",
        "colab": {}
      },
      "source": [
        "def windowed_dataset(series, window_size, batch_size, shuffle_buffer):\n",
        "  series = tf.expand_dims(series, axis=-1)\n",
        "  ds = tf.data.Dataset.from_tensor_slices(series)\n",
        "  ds = ds.window(window_size+1, shift=1, drop_remainder=True)\n",
        "  ds = ds.flat_map(lambda w: w.batch(window_size+1))\n",
        "  ds = ds.shuffle(shuffle_buffer)\n",
        "  ds = ds.map(lambda w: (w[:-1], w[1:]))\n",
        "  return ds.batch(batch_size).prefetch(1)\n",
        "# YOUR CODE HERE"
      ],
      "execution_count": 0,
      "outputs": []
    },
    {
      "cell_type": "code",
      "metadata": {
        "id": "4XwGrf-A_wF0",
        "colab_type": "code",
        "colab": {}
      },
      "source": [
        "def model_forecast(model, series, window_size):\n",
        "  ds = tf.data.Dataset.from_tensor_slices(series)\n",
        "  ds = ds.window(window_size, shift=1, drop_remainder=True)\n",
        "  ds = ds.flat_map(lambda w: w.batch(window_size))\n",
        "  ds = ds.batch(32).prefetch(1)\n",
        "  forecast = model.predict(ds)\n",
        "  return forecast\n",
        "    # YOUR CODE HERE"
      ],
      "execution_count": 0,
      "outputs": []
    },
    {
      "cell_type": "code",
      "metadata": {
        "id": "AclfYY3Mn6Ph",
        "colab_type": "code",
        "outputId": "4672329b-04f9-4f9a-e8f2-5eddad9ec837",
        "colab": {
          "base_uri": "https://localhost:8080/",
          "height": 1000
        }
      },
      "source": [
        "tf.keras.backend.clear_session()\n",
        "tf.random.set_seed(51)\n",
        "np.random.seed(51)\n",
        "window_size = 64\n",
        "batch_size = 256\n",
        "train_set = windowed_dataset(x_train, window_size, batch_size, shuffle_buffer_size)\n",
        "print(train_set)\n",
        "print(x_train.shape)\n",
        "\n",
        "model = tf.keras.models.Sequential([\n",
        "                                    tf.keras.layers.Conv1D(filters=32, kernel_size=5, strides=1, padding=\"causal\", activation=\"relu\", input_shape=[None, 1]),\n",
        "                                    tf.keras.layers.LSTM(64, return_sequences=True),\n",
        "                                    tf.keras.layers.LSTM(64, return_sequences=True),\n",
        "                                    tf.keras.layers.Dense(30, activation=\"relu\"),\n",
        "                                    tf.keras.layers.Dense(10, activation=\"relu\"),\n",
        "                                    tf.keras.layers.Dense(1),\n",
        "                                    tf.keras.layers.Lambda(lambda x: x*27)\n",
        "# YOUR CODE HERE\n",
        "])\n",
        "\n",
        "lr_schedule = tf.keras.callbacks.LearningRateScheduler(\n",
        "    lambda epoch: 1e-8 * 10**(epoch / 20))\n",
        "optimizer = tf.keras.optimizers.SGD(lr=1e-8, momentum=0.9)\n",
        "model.compile(loss=tf.keras.losses.Huber(),\n",
        "              optimizer=optimizer,\n",
        "              metrics=[\"mae\"])\n",
        "history = model.fit(train_set, epochs=100, callbacks=[lr_schedule])\n",
        "\n",
        "\n"
      ],
      "execution_count": 0,
      "outputs": [
        {
          "output_type": "stream",
          "text": [
            "<PrefetchDataset shapes: ((None, None, 1), (None, None, 1)), types: (tf.float64, tf.float64)>\n",
            "(2500,)\n",
            "Epoch 1/100\n",
            "10/10 [==============================] - 6s 620ms/step - loss: 11.7406 - mae: 12.2442\n",
            "Epoch 2/100\n",
            "10/10 [==============================] - 4s 386ms/step - loss: 11.7382 - mae: 12.2414\n",
            "Epoch 3/100\n",
            "10/10 [==============================] - 4s 384ms/step - loss: 11.7340 - mae: 12.2373\n",
            "Epoch 4/100\n",
            "10/10 [==============================] - 4s 370ms/step - loss: 11.7289 - mae: 12.2322\n",
            "Epoch 5/100\n",
            "10/10 [==============================] - 4s 370ms/step - loss: 11.7231 - mae: 12.2263\n",
            "Epoch 6/100\n",
            "10/10 [==============================] - 4s 374ms/step - loss: 11.7164 - mae: 12.2197\n",
            "Epoch 7/100\n",
            "10/10 [==============================] - 4s 379ms/step - loss: 11.7090 - mae: 12.2122\n",
            "Epoch 8/100\n",
            "10/10 [==============================] - 4s 379ms/step - loss: 11.7005 - mae: 12.2038\n",
            "Epoch 9/100\n",
            "10/10 [==============================] - 4s 373ms/step - loss: 11.6910 - mae: 12.1944\n",
            "Epoch 10/100\n",
            "10/10 [==============================] - 4s 370ms/step - loss: 11.6804 - mae: 12.1837\n",
            "Epoch 11/100\n",
            "10/10 [==============================] - 4s 377ms/step - loss: 11.6683 - mae: 12.1716\n",
            "Epoch 12/100\n",
            "10/10 [==============================] - 4s 368ms/step - loss: 11.6547 - mae: 12.1580\n",
            "Epoch 13/100\n",
            "10/10 [==============================] - 4s 376ms/step - loss: 11.6392 - mae: 12.1426\n",
            "Epoch 14/100\n",
            "10/10 [==============================] - 4s 373ms/step - loss: 11.6218 - mae: 12.1252\n",
            "Epoch 15/100\n",
            "10/10 [==============================] - 4s 375ms/step - loss: 11.6019 - mae: 12.1054\n",
            "Epoch 16/100\n",
            "10/10 [==============================] - 4s 381ms/step - loss: 11.5794 - mae: 12.0829\n",
            "Epoch 17/100\n",
            "10/10 [==============================] - 4s 374ms/step - loss: 11.5537 - mae: 12.0572\n",
            "Epoch 18/100\n",
            "10/10 [==============================] - 4s 385ms/step - loss: 11.5241 - mae: 12.0277\n",
            "Epoch 19/100\n",
            "10/10 [==============================] - 4s 382ms/step - loss: 11.4899 - mae: 11.9936\n",
            "Epoch 20/100\n",
            "10/10 [==============================] - 4s 371ms/step - loss: 11.4499 - mae: 11.9538\n",
            "Epoch 21/100\n",
            "10/10 [==============================] - 4s 369ms/step - loss: 11.4026 - mae: 11.9066\n",
            "Epoch 22/100\n",
            "10/10 [==============================] - 4s 376ms/step - loss: 11.3462 - mae: 11.8504\n",
            "Epoch 23/100\n",
            "10/10 [==============================] - 4s 375ms/step - loss: 11.2787 - mae: 11.7833\n",
            "Epoch 24/100\n",
            "10/10 [==============================] - 4s 381ms/step - loss: 11.1971 - mae: 11.7021\n",
            "Epoch 25/100\n",
            "10/10 [==============================] - 4s 383ms/step - loss: 11.0980 - mae: 11.6036\n",
            "Epoch 26/100\n",
            "10/10 [==============================] - 4s 373ms/step - loss: 10.9791 - mae: 11.4854\n",
            "Epoch 27/100\n",
            "10/10 [==============================] - 4s 386ms/step - loss: 10.8385 - mae: 11.3453\n",
            "Epoch 28/100\n",
            "10/10 [==============================] - 4s 371ms/step - loss: 10.6735 - mae: 11.1809\n",
            "Epoch 29/100\n",
            "10/10 [==============================] - 4s 374ms/step - loss: 10.4831 - mae: 10.9909\n",
            "Epoch 30/100\n",
            "10/10 [==============================] - 4s 367ms/step - loss: 10.2692 - mae: 10.7772\n",
            "Epoch 31/100\n",
            "10/10 [==============================] - 4s 372ms/step - loss: 10.0337 - mae: 10.5419\n",
            "Epoch 32/100\n",
            "10/10 [==============================] - 4s 377ms/step - loss: 9.7764 - mae: 10.2850\n",
            "Epoch 33/100\n",
            "10/10 [==============================] - 4s 375ms/step - loss: 9.4956 - mae: 10.0048\n",
            "Epoch 34/100\n",
            "10/10 [==============================] - 4s 377ms/step - loss: 9.1891 - mae: 9.6989\n",
            "Epoch 35/100\n",
            "10/10 [==============================] - 4s 382ms/step - loss: 8.8548 - mae: 9.3652\n",
            "Epoch 36/100\n",
            "10/10 [==============================] - 4s 366ms/step - loss: 8.4907 - mae: 9.0012\n",
            "Epoch 37/100\n",
            "10/10 [==============================] - 4s 381ms/step - loss: 8.0941 - mae: 8.6045\n",
            "Epoch 38/100\n",
            "10/10 [==============================] - 4s 380ms/step - loss: 7.6632 - mae: 8.1736\n",
            "Epoch 39/100\n",
            "10/10 [==============================] - 4s 386ms/step - loss: 7.1970 - mae: 7.7073\n",
            "Epoch 40/100\n",
            "10/10 [==============================] - 4s 381ms/step - loss: 6.6961 - mae: 7.2060\n",
            "Epoch 41/100\n",
            "10/10 [==============================] - 4s 371ms/step - loss: 6.1643 - mae: 6.6731\n",
            "Epoch 42/100\n",
            "10/10 [==============================] - 4s 379ms/step - loss: 5.6091 - mae: 6.1157\n",
            "Epoch 43/100\n",
            "10/10 [==============================] - 4s 380ms/step - loss: 5.0433 - mae: 5.5452\n",
            "Epoch 44/100\n",
            "10/10 [==============================] - 4s 379ms/step - loss: 4.4887 - mae: 4.9870\n",
            "Epoch 45/100\n",
            "10/10 [==============================] - 4s 372ms/step - loss: 3.9722 - mae: 4.4666\n",
            "Epoch 46/100\n",
            "10/10 [==============================] - 4s 372ms/step - loss: 3.5159 - mae: 4.0064\n",
            "Epoch 47/100\n",
            "10/10 [==============================] - 4s 381ms/step - loss: 3.1435 - mae: 3.6259\n",
            "Epoch 48/100\n",
            "10/10 [==============================] - 4s 382ms/step - loss: 2.8760 - mae: 3.3512\n",
            "Epoch 49/100\n",
            "10/10 [==============================] - 4s 382ms/step - loss: 2.7077 - mae: 3.1794\n",
            "Epoch 50/100\n",
            "10/10 [==============================] - 4s 384ms/step - loss: 2.6074 - mae: 3.0769\n",
            "Epoch 51/100\n",
            "10/10 [==============================] - 4s 377ms/step - loss: 2.5391 - mae: 3.0072\n",
            "Epoch 52/100\n",
            "10/10 [==============================] - 4s 372ms/step - loss: 2.4800 - mae: 2.9460\n",
            "Epoch 53/100\n",
            "10/10 [==============================] - 4s 377ms/step - loss: 2.4265 - mae: 2.8907\n",
            "Epoch 54/100\n",
            "10/10 [==============================] - 4s 377ms/step - loss: 2.3830 - mae: 2.8459\n",
            "Epoch 55/100\n",
            "10/10 [==============================] - 4s 375ms/step - loss: 2.3493 - mae: 2.8109\n",
            "Epoch 56/100\n",
            "10/10 [==============================] - 4s 380ms/step - loss: 2.3208 - mae: 2.7814\n",
            "Epoch 57/100\n",
            "10/10 [==============================] - 4s 387ms/step - loss: 2.2953 - mae: 2.7552\n",
            "Epoch 58/100\n",
            "10/10 [==============================] - 4s 385ms/step - loss: 2.2710 - mae: 2.7305\n",
            "Epoch 59/100\n",
            "10/10 [==============================] - 4s 381ms/step - loss: 2.2472 - mae: 2.7063\n",
            "Epoch 60/100\n",
            "10/10 [==============================] - 4s 376ms/step - loss: 2.2234 - mae: 2.6824\n",
            "Epoch 61/100\n",
            "10/10 [==============================] - 4s 378ms/step - loss: 2.1998 - mae: 2.6589\n",
            "Epoch 62/100\n",
            "10/10 [==============================] - 4s 378ms/step - loss: 2.1767 - mae: 2.6359\n",
            "Epoch 63/100\n",
            "10/10 [==============================] - 4s 384ms/step - loss: 2.1543 - mae: 2.6135\n",
            "Epoch 64/100\n",
            "10/10 [==============================] - 4s 386ms/step - loss: 2.1325 - mae: 2.5914\n",
            "Epoch 65/100\n",
            "10/10 [==============================] - 4s 375ms/step - loss: 2.1115 - mae: 2.5702\n",
            "Epoch 66/100\n",
            "10/10 [==============================] - 4s 379ms/step - loss: 2.0912 - mae: 2.5498\n",
            "Epoch 67/100\n",
            "10/10 [==============================] - 4s 375ms/step - loss: 2.0711 - mae: 2.5296\n",
            "Epoch 68/100\n",
            "10/10 [==============================] - 4s 379ms/step - loss: 2.0499 - mae: 2.5086\n",
            "Epoch 69/100\n",
            "10/10 [==============================] - 4s 377ms/step - loss: 2.0278 - mae: 2.4866\n",
            "Epoch 70/100\n",
            "10/10 [==============================] - 4s 368ms/step - loss: 2.0051 - mae: 2.4639\n",
            "Epoch 71/100\n",
            "10/10 [==============================] - 4s 384ms/step - loss: 1.9815 - mae: 2.4402\n",
            "Epoch 72/100\n",
            "10/10 [==============================] - 4s 381ms/step - loss: 1.9571 - mae: 2.4153\n",
            "Epoch 73/100\n",
            "10/10 [==============================] - 4s 376ms/step - loss: 1.9345 - mae: 2.3920\n",
            "Epoch 74/100\n",
            "10/10 [==============================] - 4s 377ms/step - loss: 1.9146 - mae: 2.3712\n",
            "Epoch 75/100\n",
            "10/10 [==============================] - 4s 362ms/step - loss: 1.8958 - mae: 2.3518\n",
            "Epoch 76/100\n",
            "10/10 [==============================] - 4s 371ms/step - loss: 1.8754 - mae: 2.3314\n",
            "Epoch 77/100\n",
            "10/10 [==============================] - 4s 379ms/step - loss: 1.8539 - mae: 2.3097\n",
            "Epoch 78/100\n",
            "10/10 [==============================] - 4s 379ms/step - loss: 1.8339 - mae: 2.2894\n",
            "Epoch 79/100\n",
            "10/10 [==============================] - 4s 391ms/step - loss: 1.8162 - mae: 2.2718\n",
            "Epoch 80/100\n",
            "10/10 [==============================] - 4s 378ms/step - loss: 1.8006 - mae: 2.2561\n",
            "Epoch 81/100\n",
            "10/10 [==============================] - 4s 388ms/step - loss: 1.7873 - mae: 2.2428\n",
            "Epoch 82/100\n",
            "10/10 [==============================] - 4s 387ms/step - loss: 1.7759 - mae: 2.2308\n",
            "Epoch 83/100\n",
            "10/10 [==============================] - 4s 371ms/step - loss: 1.7654 - mae: 2.2198\n",
            "Epoch 84/100\n",
            "10/10 [==============================] - 4s 369ms/step - loss: 1.7534 - mae: 2.2074\n",
            "Epoch 85/100\n",
            "10/10 [==============================] - 4s 366ms/step - loss: 1.7419 - mae: 2.1954\n",
            "Epoch 86/100\n",
            "10/10 [==============================] - 4s 361ms/step - loss: 1.7305 - mae: 2.1836\n",
            "Epoch 87/100\n",
            "10/10 [==============================] - 4s 357ms/step - loss: 1.7197 - mae: 2.1723\n",
            "Epoch 88/100\n",
            "10/10 [==============================] - 4s 360ms/step - loss: 1.7164 - mae: 2.1682\n",
            "Epoch 89/100\n",
            "10/10 [==============================] - 4s 354ms/step - loss: 1.8168 - mae: 2.2770\n",
            "Epoch 90/100\n",
            "10/10 [==============================] - 4s 370ms/step - loss: 1.7610 - mae: 2.2162\n",
            "Epoch 91/100\n",
            "10/10 [==============================] - 4s 358ms/step - loss: 1.7206 - mae: 2.1723\n",
            "Epoch 92/100\n",
            "10/10 [==============================] - 4s 360ms/step - loss: 1.6880 - mae: 2.1399\n",
            "Epoch 93/100\n",
            "10/10 [==============================] - 4s 377ms/step - loss: 1.7538 - mae: 2.1861\n",
            "Epoch 94/100\n",
            "10/10 [==============================] - 4s 368ms/step - loss: 1.8168 - mae: 2.2733\n",
            "Epoch 95/100\n",
            "10/10 [==============================] - 4s 354ms/step - loss: 1.7001 - mae: 2.1529\n",
            "Epoch 96/100\n",
            "10/10 [==============================] - 4s 363ms/step - loss: 1.6980 - mae: 2.1440\n",
            "Epoch 97/100\n",
            "10/10 [==============================] - 4s 365ms/step - loss: 1.9574 - mae: 2.4301\n",
            "Epoch 98/100\n",
            "10/10 [==============================] - 4s 364ms/step - loss: 1.7311 - mae: 2.1875\n",
            "Epoch 99/100\n",
            "10/10 [==============================] - 4s 370ms/step - loss: 1.8569 - mae: 2.3211\n",
            "Epoch 100/100\n",
            "10/10 [==============================] - 4s 357ms/step - loss: 1.6894 - mae: 2.1388\n"
          ],
          "name": "stdout"
        }
      ]
    },
    {
      "cell_type": "code",
      "metadata": {
        "id": "vVcKmg7Q_7rD",
        "colab_type": "code",
        "outputId": "f918ecf7-eb1b-43db-e123-4dbe922b5176",
        "colab": {
          "base_uri": "https://localhost:8080/",
          "height": 290
        }
      },
      "source": [
        "plt.semilogx(history.history[\"lr\"], history.history[\"loss\"])\n",
        "plt.axis([1e-8, 1e-2, 0, 60])"
      ],
      "execution_count": 0,
      "outputs": [
        {
          "output_type": "execute_result",
          "data": {
            "text/plain": [
              "[1e-08, 0.01, 0, 60]"
            ]
          },
          "metadata": {
            "tags": []
          },
          "execution_count": 54
        },
        {
          "output_type": "display_data",
          "data": {
            "image/png": "[encoded data removed]",
            "text/plain": [
              "<Figure size 432x288 with 1 Axes>"
            ]
          },
          "metadata": {
            "tags": []
          }
        }
      ]
    },
    {
      "cell_type": "code",
      "metadata": {
        "id": "QsksvkcXAAgq",
        "colab_type": "code",
        "outputId": "6911749e-84ff-43bb-b293-ec7d91fb5088",
        "colab": {
          "base_uri": "https://localhost:8080/",
          "height": 1000
        }
      },
      "source": [
        "tf.keras.backend.clear_session()\n",
        "tf.random.set_seed(51)\n",
        "np.random.seed(51)\n",
        "train_set = windowed_dataset(x_train, window_size=60, batch_size=100, shuffle_buffer=shuffle_buffer_size)\n",
        "model = tf.keras.models.Sequential([\n",
        "                                    tf.keras.layers.Conv1D(filters=60, kernel_size=5, strides=1, padding=\"causal\", activation=\"relu\", input_shape=[None,1]),\n",
        "                                    tf.keras.layers.LSTM(60, return_sequences=True),\n",
        "                                    tf.keras.layers.LSTM(60, return_sequences=True),\n",
        "                                    tf.keras.layers.Dense(30, activation=\"relu\"),\n",
        "                                    tf.keras.layers.Dense(1)\n",
        "                                    # tf.keras.layers.lambda(lambda x: x*100)\n",
        "                                    # YOUR CODE HERE\n",
        "])\n",
        "\n",
        "\n",
        "optimizer = tf.keras.optimizers.SGD(lr=1e-3, momentum=0.9)# YOUR CODE HERE, momentum=0.9)\n",
        "model.compile(loss=tf.keras.losses.Huber(),\n",
        "              optimizer=optimizer,\n",
        "              metrics=[\"mae\"])\n",
        "history = model.fit(train_set,epochs=150)# YOUR CODE HERE)\n",
        "                                    \n",
        "# EXPECTED OUTPUT SHOULD SEE AN MAE OF <2 WITHIN ABOUT 30 EPOCHS"
      ],
      "execution_count": 0,
      "outputs": [
        {
          "output_type": "stream",
          "text": [
            "Epoch 1/150\n",
            "25/25 [==============================] - 6s 220ms/step - loss: 9.8935 - mae: 10.4144\n",
            "Epoch 2/150\n",
            "25/25 [==============================] - 3s 136ms/step - loss: 8.0095 - mae: 8.5528\n",
            "Epoch 3/150\n",
            "25/25 [==============================] - 3s 133ms/step - loss: 3.9700 - mae: 4.4677\n",
            "Epoch 4/150\n",
            "25/25 [==============================] - 3s 132ms/step - loss: 2.9420 - mae: 3.4153\n",
            "Epoch 5/150\n",
            "25/25 [==============================] - 3s 131ms/step - loss: 2.8699 - mae: 3.3397\n",
            "Epoch 6/150\n",
            "25/25 [==============================] - 3s 136ms/step - loss: 2.7928 - mae: 3.2623\n",
            "Epoch 7/150\n",
            "25/25 [==============================] - 3s 132ms/step - loss: 2.6805 - mae: 3.1497\n",
            "Epoch 8/150\n",
            "25/25 [==============================] - 3s 132ms/step - loss: 2.4624 - mae: 2.9282\n",
            "Epoch 9/150\n",
            "25/25 [==============================] - 3s 134ms/step - loss: 2.2070 - mae: 2.6645\n",
            "Epoch 10/150\n",
            "25/25 [==============================] - 3s 136ms/step - loss: 2.0642 - mae: 2.5189\n",
            "Epoch 11/150\n",
            "25/25 [==============================] - 3s 133ms/step - loss: 1.9646 - mae: 2.4160\n",
            "Epoch 12/150\n",
            "25/25 [==============================] - 3s 129ms/step - loss: 1.9072 - mae: 2.3595\n",
            "Epoch 13/150\n",
            "25/25 [==============================] - 3s 133ms/step - loss: 1.8520 - mae: 2.3034\n",
            "Epoch 14/150\n",
            "25/25 [==============================] - 3s 130ms/step - loss: 1.8070 - mae: 2.2571\n",
            "Epoch 15/150\n",
            "25/25 [==============================] - 3s 132ms/step - loss: 1.7735 - mae: 2.2223\n",
            "Epoch 16/150\n",
            "25/25 [==============================] - 3s 133ms/step - loss: 1.7415 - mae: 2.1896\n",
            "Epoch 17/150\n",
            "25/25 [==============================] - 3s 132ms/step - loss: 1.7140 - mae: 2.1615\n",
            "Epoch 18/150\n",
            "25/25 [==============================] - 3s 131ms/step - loss: 1.6841 - mae: 2.1309\n",
            "Epoch 19/150\n",
            "25/25 [==============================] - 3s 129ms/step - loss: 1.6673 - mae: 2.1134\n",
            "Epoch 20/150\n",
            "25/25 [==============================] - 3s 126ms/step - loss: 1.6408 - mae: 2.0855\n",
            "Epoch 21/150\n",
            "25/25 [==============================] - 3s 133ms/step - loss: 1.6245 - mae: 2.0684\n",
            "Epoch 22/150\n",
            "25/25 [==============================] - 3s 134ms/step - loss: 1.6073 - mae: 2.0500\n",
            "Epoch 23/150\n",
            "25/25 [==============================] - 3s 136ms/step - loss: 1.5931 - mae: 2.0349\n",
            "Epoch 24/150\n",
            "25/25 [==============================] - 3s 129ms/step - loss: 1.5820 - mae: 2.0229\n",
            "Epoch 25/150\n",
            "25/25 [==============================] - 3s 131ms/step - loss: 1.5744 - mae: 2.0149\n",
            "Epoch 26/150\n",
            "25/25 [==============================] - 3s 129ms/step - loss: 1.5671 - mae: 2.0068\n",
            "Epoch 27/150\n",
            "25/25 [==============================] - 3s 135ms/step - loss: 1.5608 - mae: 2.0000\n",
            "Epoch 28/150\n",
            "25/25 [==============================] - 3s 132ms/step - loss: 1.5543 - mae: 1.9933\n",
            "Epoch 29/150\n",
            "25/25 [==============================] - 3s 127ms/step - loss: 1.5488 - mae: 1.9877\n",
            "Epoch 30/150\n",
            "25/25 [==============================] - 3s 130ms/step - loss: 1.5439 - mae: 1.9827\n",
            "Epoch 31/150\n",
            "25/25 [==============================] - 3s 130ms/step - loss: 1.5395 - mae: 1.9783\n",
            "Epoch 32/150\n",
            "25/25 [==============================] - 3s 129ms/step - loss: 1.5356 - mae: 1.9743\n",
            "Epoch 33/150\n",
            "25/25 [==============================] - 3s 132ms/step - loss: 1.5319 - mae: 1.9706\n",
            "Epoch 34/150\n",
            "25/25 [==============================] - 3s 132ms/step - loss: 1.5285 - mae: 1.9671\n",
            "Epoch 35/150\n",
            "25/25 [==============================] - 3s 129ms/step - loss: 1.5254 - mae: 1.9640\n",
            "Epoch 36/150\n",
            "25/25 [==============================] - 3s 133ms/step - loss: 1.5225 - mae: 1.9611\n",
            "Epoch 37/150\n",
            "25/25 [==============================] - 3s 135ms/step - loss: 1.5197 - mae: 1.9583\n",
            "Epoch 38/150\n",
            "25/25 [==============================] - 3s 127ms/step - loss: 1.5171 - mae: 1.9557\n",
            "Epoch 39/150\n",
            "25/25 [==============================] - 3s 128ms/step - loss: 1.5146 - mae: 1.9533\n",
            "Epoch 40/150\n",
            "25/25 [==============================] - 3s 127ms/step - loss: 1.5123 - mae: 1.9509\n",
            "Epoch 41/150\n",
            "25/25 [==============================] - 3s 123ms/step - loss: 1.5100 - mae: 1.9486\n",
            "Epoch 42/150\n",
            "25/25 [==============================] - 3s 123ms/step - loss: 1.5079 - mae: 1.9464\n",
            "Epoch 43/150\n",
            "25/25 [==============================] - 3s 119ms/step - loss: 1.5058 - mae: 1.9443\n",
            "Epoch 44/150\n",
            "25/25 [==============================] - 3s 123ms/step - loss: 1.5038 - mae: 1.9423\n",
            "Epoch 45/150\n",
            "25/25 [==============================] - 3s 121ms/step - loss: 1.5019 - mae: 1.9404\n",
            "Epoch 46/150\n",
            "25/25 [==============================] - 3s 126ms/step - loss: 1.5001 - mae: 1.9385\n",
            "Epoch 47/150\n",
            "25/25 [==============================] - 3s 124ms/step - loss: 1.4983 - mae: 1.9366\n",
            "Epoch 48/150\n",
            "25/25 [==============================] - 3s 120ms/step - loss: 1.4965 - mae: 1.9348\n",
            "Epoch 49/150\n",
            "25/25 [==============================] - 3s 118ms/step - loss: 1.4948 - mae: 1.9331\n",
            "Epoch 50/150\n",
            "25/25 [==============================] - 3s 120ms/step - loss: 1.4932 - mae: 1.9313\n",
            "Epoch 51/150\n",
            "25/25 [==============================] - 3s 121ms/step - loss: 1.4916 - mae: 1.9296\n",
            "Epoch 52/150\n",
            "25/25 [==============================] - 3s 124ms/step - loss: 1.4899 - mae: 1.9279\n",
            "Epoch 53/150\n",
            "25/25 [==============================] - 3s 123ms/step - loss: 1.4883 - mae: 1.9262\n",
            "Epoch 54/150\n",
            "25/25 [==============================] - 3s 121ms/step - loss: 1.4867 - mae: 1.9246\n",
            "Epoch 55/150\n",
            "25/25 [==============================] - 3s 123ms/step - loss: 1.4851 - mae: 1.9229\n",
            "Epoch 56/150\n",
            "25/25 [==============================] - 3s 123ms/step - loss: 1.4835 - mae: 1.9213\n",
            "Epoch 57/150\n",
            "25/25 [==============================] - 3s 123ms/step - loss: 1.4820 - mae: 1.9198\n",
            "Epoch 58/150\n",
            "25/25 [==============================] - 3s 120ms/step - loss: 1.4806 - mae: 1.9184\n",
            "Epoch 59/150\n",
            "25/25 [==============================] - 3s 119ms/step - loss: 1.4793 - mae: 1.9170\n",
            "Epoch 60/150\n",
            "25/25 [==============================] - 3s 120ms/step - loss: 1.4780 - mae: 1.9157\n",
            "Epoch 61/150\n",
            "25/25 [==============================] - 3s 121ms/step - loss: 1.4768 - mae: 1.9144\n",
            "Epoch 62/150\n",
            "25/25 [==============================] - 3s 118ms/step - loss: 1.4756 - mae: 1.9132\n",
            "Epoch 63/150\n",
            "25/25 [==============================] - 3s 120ms/step - loss: 1.4745 - mae: 1.9121\n",
            "Epoch 64/150\n",
            "25/25 [==============================] - 3s 119ms/step - loss: 1.4735 - mae: 1.9109\n",
            "Epoch 65/150\n",
            "25/25 [==============================] - 3s 123ms/step - loss: 1.4724 - mae: 1.9099\n",
            "Epoch 66/150\n",
            "25/25 [==============================] - 3s 122ms/step - loss: 1.4715 - mae: 1.9089\n",
            "Epoch 67/150\n",
            "25/25 [==============================] - 3s 119ms/step - loss: 1.4706 - mae: 1.9079\n",
            "Epoch 68/150\n",
            "25/25 [==============================] - 3s 125ms/step - loss: 1.4696 - mae: 1.9070\n",
            "Epoch 69/150\n",
            "25/25 [==============================] - 3s 121ms/step - loss: 1.4688 - mae: 1.9061\n",
            "Epoch 70/150\n",
            "25/25 [==============================] - 3s 122ms/step - loss: 1.4679 - mae: 1.9052\n",
            "Epoch 71/150\n",
            "25/25 [==============================] - 3s 124ms/step - loss: 1.4670 - mae: 1.9043\n",
            "Epoch 72/150\n",
            "25/25 [==============================] - 3s 124ms/step - loss: 1.4662 - mae: 1.9034\n",
            "Epoch 73/150\n",
            "25/25 [==============================] - 3s 119ms/step - loss: 1.4654 - mae: 1.9026\n",
            "Epoch 74/150\n",
            "25/25 [==============================] - 3s 121ms/step - loss: 1.4646 - mae: 1.9017\n",
            "Epoch 75/150\n",
            "25/25 [==============================] - 3s 124ms/step - loss: 1.4638 - mae: 1.9009\n",
            "Epoch 76/150\n",
            "25/25 [==============================] - 3s 123ms/step - loss: 1.4631 - mae: 1.9001\n",
            "Epoch 77/150\n",
            "25/25 [==============================] - 3s 119ms/step - loss: 1.4623 - mae: 1.8993\n",
            "Epoch 78/150\n",
            "25/25 [==============================] - 3s 121ms/step - loss: 1.4616 - mae: 1.8985\n",
            "Epoch 79/150\n",
            "25/25 [==============================] - 3s 122ms/step - loss: 1.4609 - mae: 1.8978\n",
            "Epoch 80/150\n",
            "25/25 [==============================] - 3s 121ms/step - loss: 1.4602 - mae: 1.8971\n",
            "Epoch 81/150\n",
            "25/25 [==============================] - 3s 119ms/step - loss: 1.4595 - mae: 1.8964\n",
            "Epoch 82/150\n",
            "25/25 [==============================] - 3s 118ms/step - loss: 1.4589 - mae: 1.8957\n",
            "Epoch 83/150\n",
            "25/25 [==============================] - 3s 120ms/step - loss: 1.4582 - mae: 1.8950\n",
            "Epoch 84/150\n",
            "25/25 [==============================] - 3s 122ms/step - loss: 1.4576 - mae: 1.8943\n",
            "Epoch 85/150\n",
            "25/25 [==============================] - 3s 121ms/step - loss: 1.4570 - mae: 1.8937\n",
            "Epoch 86/150\n",
            "25/25 [==============================] - 3s 123ms/step - loss: 1.4564 - mae: 1.8930\n",
            "Epoch 87/150\n",
            "25/25 [==============================] - 3s 123ms/step - loss: 1.4559 - mae: 1.8924\n",
            "Epoch 88/150\n",
            "25/25 [==============================] - 3s 119ms/step - loss: 1.4553 - mae: 1.8918\n",
            "Epoch 89/150\n",
            "25/25 [==============================] - 3s 126ms/step - loss: 1.4547 - mae: 1.8912\n",
            "Epoch 90/150\n",
            "25/25 [==============================] - 3s 116ms/step - loss: 1.4542 - mae: 1.8907\n",
            "Epoch 91/150\n",
            "25/25 [==============================] - 3s 115ms/step - loss: 1.4537 - mae: 1.8901\n",
            "Epoch 92/150\n",
            "25/25 [==============================] - 3s 119ms/step - loss: 1.4532 - mae: 1.8896\n",
            "Epoch 93/150\n",
            "25/25 [==============================] - 3s 116ms/step - loss: 1.4527 - mae: 1.8890\n",
            "Epoch 94/150\n",
            "25/25 [==============================] - 3s 123ms/step - loss: 1.4522 - mae: 1.8885\n",
            "Epoch 95/150\n",
            "25/25 [==============================] - 3s 120ms/step - loss: 1.4516 - mae: 1.8879\n",
            "Epoch 96/150\n",
            "25/25 [==============================] - 3s 118ms/step - loss: 1.4512 - mae: 1.8874\n",
            "Epoch 97/150\n",
            "25/25 [==============================] - 3s 118ms/step - loss: 1.4507 - mae: 1.8869\n",
            "Epoch 98/150\n",
            "25/25 [==============================] - 3s 120ms/step - loss: 1.4502 - mae: 1.8864\n",
            "Epoch 99/150\n",
            "25/25 [==============================] - 3s 121ms/step - loss: 1.4497 - mae: 1.8859\n",
            "Epoch 100/150\n",
            "25/25 [==============================] - 3s 120ms/step - loss: 1.4493 - mae: 1.8854\n",
            "Epoch 101/150\n",
            "25/25 [==============================] - 3s 118ms/step - loss: 1.4488 - mae: 1.8849\n",
            "Epoch 102/150\n",
            "25/25 [==============================] - 3s 114ms/step - loss: 1.4484 - mae: 1.8844\n",
            "Epoch 103/150\n",
            "25/25 [==============================] - 3s 115ms/step - loss: 1.4480 - mae: 1.8840\n",
            "Epoch 104/150\n",
            "25/25 [==============================] - 3s 117ms/step - loss: 1.4475 - mae: 1.8835\n",
            "Epoch 105/150\n",
            "25/25 [==============================] - 3s 119ms/step - loss: 1.4471 - mae: 1.8831\n",
            "Epoch 106/150\n",
            "25/25 [==============================] - 3s 119ms/step - loss: 1.4467 - mae: 1.8826\n",
            "Epoch 107/150\n",
            "25/25 [==============================] - 3s 124ms/step - loss: 1.4463 - mae: 1.8822\n",
            "Epoch 108/150\n",
            "25/25 [==============================] - 3s 122ms/step - loss: 1.4459 - mae: 1.8818\n",
            "Epoch 109/150\n",
            "25/25 [==============================] - 3s 122ms/step - loss: 1.4455 - mae: 1.8814\n",
            "Epoch 110/150\n",
            "25/25 [==============================] - 3s 118ms/step - loss: 1.4451 - mae: 1.8810\n",
            "Epoch 111/150\n",
            "25/25 [==============================] - 3s 123ms/step - loss: 1.4447 - mae: 1.8805\n",
            "Epoch 112/150\n",
            "25/25 [==============================] - 3s 119ms/step - loss: 1.4443 - mae: 1.8801\n",
            "Epoch 113/150\n",
            "25/25 [==============================] - 3s 114ms/step - loss: 1.4440 - mae: 1.8797\n",
            "Epoch 114/150\n",
            "25/25 [==============================] - 3s 117ms/step - loss: 1.4436 - mae: 1.8793\n",
            "Epoch 115/150\n",
            "25/25 [==============================] - 3s 117ms/step - loss: 1.4432 - mae: 1.8789\n",
            "Epoch 116/150\n",
            "25/25 [==============================] - 3s 120ms/step - loss: 1.4428 - mae: 1.8785\n",
            "Epoch 117/150\n",
            "25/25 [==============================] - 3s 118ms/step - loss: 1.4425 - mae: 1.8781\n",
            "Epoch 118/150\n",
            "25/25 [==============================] - 3s 118ms/step - loss: 1.4421 - mae: 1.8777\n",
            "Epoch 119/150\n",
            "25/25 [==============================] - 3s 120ms/step - loss: 1.4418 - mae: 1.8774\n",
            "Epoch 120/150\n",
            "25/25 [==============================] - 3s 121ms/step - loss: 1.4414 - mae: 1.8770\n",
            "Epoch 121/150\n",
            "25/25 [==============================] - 3s 119ms/step - loss: 1.4411 - mae: 1.8766\n",
            "Epoch 122/150\n",
            "25/25 [==============================] - 3s 115ms/step - loss: 1.4408 - mae: 1.8763\n",
            "Epoch 123/150\n",
            "25/25 [==============================] - 3s 119ms/step - loss: 1.4404 - mae: 1.8759\n",
            "Epoch 124/150\n",
            "25/25 [==============================] - 3s 120ms/step - loss: 1.4401 - mae: 1.8756\n",
            "Epoch 125/150\n",
            "25/25 [==============================] - 3s 122ms/step - loss: 1.4398 - mae: 1.8752\n",
            "Epoch 126/150\n",
            "25/25 [==============================] - 3s 123ms/step - loss: 1.4395 - mae: 1.8749\n",
            "Epoch 127/150\n",
            "25/25 [==============================] - 3s 115ms/step - loss: 1.4392 - mae: 1.8746\n",
            "Epoch 128/150\n",
            "25/25 [==============================] - 3s 115ms/step - loss: 1.4389 - mae: 1.8743\n",
            "Epoch 129/150\n",
            "25/25 [==============================] - 3s 118ms/step - loss: 1.4386 - mae: 1.8740\n",
            "Epoch 130/150\n",
            "25/25 [==============================] - 3s 120ms/step - loss: 1.4383 - mae: 1.8737\n",
            "Epoch 131/150\n",
            "25/25 [==============================] - 3s 123ms/step - loss: 1.4380 - mae: 1.8734\n",
            "Epoch 132/150\n",
            "25/25 [==============================] - 3s 120ms/step - loss: 1.4378 - mae: 1.8732\n",
            "Epoch 133/150\n",
            "25/25 [==============================] - 3s 117ms/step - loss: 1.4375 - mae: 1.8729\n",
            "Epoch 134/150\n",
            "25/25 [==============================] - 3s 118ms/step - loss: 1.4373 - mae: 1.8727\n",
            "Epoch 135/150\n",
            "25/25 [==============================] - 3s 121ms/step - loss: 1.4371 - mae: 1.8725\n",
            "Epoch 136/150\n",
            "25/25 [==============================] - 3s 121ms/step - loss: 1.4369 - mae: 1.8723\n",
            "Epoch 137/150\n",
            "25/25 [==============================] - 3s 119ms/step - loss: 1.4368 - mae: 1.8722\n",
            "Epoch 138/150\n",
            "25/25 [==============================] - 3s 120ms/step - loss: 1.4367 - mae: 1.8721\n",
            "Epoch 139/150\n",
            "25/25 [==============================] - 3s 118ms/step - loss: 1.4365 - mae: 1.8720\n",
            "Epoch 140/150\n",
            "25/25 [==============================] - 3s 119ms/step - loss: 1.4364 - mae: 1.8719\n",
            "Epoch 141/150\n",
            "25/25 [==============================] - 3s 117ms/step - loss: 1.4361 - mae: 1.8717\n",
            "Epoch 142/150\n",
            "25/25 [==============================] - 3s 120ms/step - loss: 1.4358 - mae: 1.8714\n",
            "Epoch 143/150\n",
            "25/25 [==============================] - 3s 122ms/step - loss: 1.4354 - mae: 1.8710\n",
            "Epoch 144/150\n",
            "25/25 [==============================] - 3s 117ms/step - loss: 1.4350 - mae: 1.8706\n",
            "Epoch 145/150\n",
            "25/25 [==============================] - 3s 117ms/step - loss: 1.4347 - mae: 1.8703\n",
            "Epoch 146/150\n",
            "25/25 [==============================] - 3s 121ms/step - loss: 1.4343 - mae: 1.8699\n",
            "Epoch 147/150\n",
            "25/25 [==============================] - 3s 119ms/step - loss: 1.4340 - mae: 1.8696\n",
            "Epoch 148/150\n",
            "25/25 [==============================] - 3s 119ms/step - loss: 1.4337 - mae: 1.8693\n",
            "Epoch 149/150\n",
            "25/25 [==============================] - 3s 128ms/step - loss: 1.4334 - mae: 1.8690\n",
            "Epoch 150/150\n",
            "25/25 [==============================] - 3s 118ms/step - loss: 1.4331 - mae: 1.8687\n"
          ],
          "name": "stdout"
        }
      ]
    },
    {
      "cell_type": "code",
      "metadata": {
        "id": "GaC6NNMRp0lb",
        "colab_type": "code",
        "colab": {}
      },
      "source": [
        "rnn_forecast = model_forecast(model, series[..., np.newaxis], window_size)\n",
        "rnn_forecast = rnn_forecast[split_time - window_size:-1, -1, 0]"
      ],
      "execution_count": 0,
      "outputs": []
    },
    {
      "cell_type": "code",
      "metadata": {
        "colab_type": "code",
        "id": "izy6wl2S9d-2",
        "outputId": "13aec9f6-68e1-4835-a682-fee099592d70",
        "colab": {
          "base_uri": "https://localhost:8080/",
          "height": 389
        }
      },
      "source": [
        "plt.figure(figsize=(10, 6))\n",
        "plot_series(time_valid, x_valid)\n",
        "plot_series(time_valid, rnn_forecast)\n",
        "\n",
        "# EXPECTED OUTPUT. PLOT SHOULD SHOW PROJECTIONS FOLLOWING ORIGINAL DATA CLOSELY"
      ],
      "execution_count": 0,
      "outputs": [
        {
          "output_type": "display_data",
          "data": {
            "image/png": "[encoded data removed]",
            "text/plain": [
              "<Figure size 720x432 with 1 Axes>"
            ]
          },
          "metadata": {
            "tags": []
          }
        }
      ]
    },
    {
      "cell_type": "code",
      "metadata": {
        "id": "13XrorC5wQoE",
        "colab_type": "code",
        "outputId": "e415cc63-a546-4ae6-9bf9-aaf1397c9cef",
        "colab": {
          "base_uri": "https://localhost:8080/",
          "height": 34
        }
      },
      "source": [
        "tf.keras.metrics.mean_absolute_error(x_valid, rnn_forecast).numpy()\n",
        "\n",
        "# EXPECTED OUTPUT MAE < 2 -- I GOT 1.789626"
      ],
      "execution_count": 0,
      "outputs": [
        {
          "output_type": "execute_result",
          "data": {
            "text/plain": [
              "1.7774174"
            ]
          },
          "metadata": {
            "tags": []
          },
          "execution_count": 50
        }
      ]
    },
    {
      "cell_type": "code",
      "metadata": {
        "id": "AOVzQXxCwkzP",
        "colab_type": "code",
        "outputId": "39bb4b35-10e7-4b83-c349-30e178c6882f",
        "colab": {
          "base_uri": "https://localhost:8080/",
          "height": 34
        }
      },
      "source": [
        "print(rnn_forecast)\n",
        "# EXPECTED OUTPUT -- ARRAY OF VALUES IN THE LOW TEENS"
      ],
      "execution_count": 0,
      "outputs": [
        {
          "output_type": "stream",
          "text": [
            "[11.703125  11.3341465 12.572121  ... 13.510786  13.561708  14.721076 ]\n"
          ],
          "name": "stdout"
        }
      ]
    },
    {
      "cell_type": "code",
      "metadata": {
        "id": "9SSTP3lqqcrc",
        "colab_type": "code",
        "colab": {}
      },
      "source": [
        ""
      ],
      "execution_count": 0,
      "outputs": []
    }
  ]
}